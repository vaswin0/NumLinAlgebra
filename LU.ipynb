{
 "cells": [
  {
   "cell_type": "code",
   "execution_count": 1,
   "id": "896b878e-ec5a-4107-898b-4cdcf6ab3799",
   "metadata": {
    "tags": []
   },
   "outputs": [],
   "source": [
    "import numpy as np"
   ]
  },
  {
   "cell_type": "code",
   "execution_count": 2,
   "id": "8aceb33e-de73-4e22-ae4a-19a689435b57",
   "metadata": {
    "tags": []
   },
   "outputs": [],
   "source": [
    "A= [[1,-1,-1,1], [2,0,2,0],[0,-1,-2,0],[3,-3,-2,4]]\n",
    "A = np.array(A).astype(np.float_)\n",
    "\n",
    "B =  np.random.randint(0, 64, (5,5)).astype(np.float_)\n",
    "\n",
    "\n",
    "C = [[-7,  1 , 5 ,-1],\n",
    " [-2 ,-4,  4 , 5],\n",
    " [ 3 , 4 , 1, -1]]\n",
    "\n",
    "C = np.array(C).astype(np.float_)\n",
    "\n",
    "D =  np.array([[1,4,9],\n",
    "               [16,25,36],\n",
    "               [49,64,81]]).astype(np.float_)"
   ]
  },
  {
   "cell_type": "code",
   "execution_count": 4,
   "id": "b6372c1e-b205-4cf7-a66c-114c9da272c3",
   "metadata": {
    "tags": []
   },
   "outputs": [],
   "source": [
    "# without partial ivoting\n",
    "\n",
    "U =  D.copy()\n",
    "L = np.identity(3)\n",
    "\n",
    "n = 3\n",
    "\n",
    "for j in range(0, n-1):\n",
    "    for i in range(j+1, n):\n",
    "        L[i,j] = U[i,j]/U[j,j]\n",
    "        \n",
    "        for k in range(j,n):\n",
    "            U[i,k] = U[i,k] - L[i,j]*U[j,k]"
   ]
  },
  {
   "cell_type": "code",
   "execution_count": 11,
   "id": "fc639389-6d41-404c-94d6-6bf79992ebf0",
   "metadata": {},
   "outputs": [],
   "source": [
    "#crude implementation with partial ivoting\n",
    "\n",
    "\n",
    "n = 3\n",
    "U =  D.copy()\n",
    "L = np.identity(n)\n",
    "P = np.identity(n)\n",
    "\n",
    "\n",
    "\n",
    "\n",
    "def rowExchange(X, m, n, j, k):\n",
    "    \n",
    "    \n",
    "    \n",
    "    row  = X[m,j: k].copy()\n",
    "    X[m, j:k] = X[n, j:k]\n",
    "    X[n, j:k] =  row\n",
    "    \n",
    "    return X\n",
    "    \n",
    "    \n",
    "\n",
    "for j in range(0, n-1):\n",
    "    \n",
    "    idx =  np.argmax(abs(U[:,j]))\n",
    "    \n",
    "    if idx >= j:\n",
    "        U = rowExchange(U, idx,j,j, n)\n",
    "        L = rowExchange(L, idx, j,1,j-1)\n",
    "        P = rowExchange(P, idx, j, 0, n)\n",
    "    \n",
    "    \n",
    "    for i in range(j+1, n):\n",
    "        L[i,j] = U[i,j]/U[j,j]\n",
    "        \n",
    "        for k in range(j,n):\n",
    "            U[i,k] = U[i,k] - L[i,j]*U[j,k]"
   ]
  },
  {
   "cell_type": "code",
   "execution_count": 12,
   "id": "8fccd49e-f55f-4050-88ac-f1e040d2dd9f",
   "metadata": {
    "tags": []
   },
   "outputs": [
    {
     "data": {
      "text/plain": [
       "array([[1.        , 0.        , 0.        ],\n",
       "       [0.32653061, 1.        , 0.        ],\n",
       "       [0.02040816, 0.65671642, 1.        ]])"
      ]
     },
     "execution_count": 12,
     "metadata": {},
     "output_type": "execute_result"
    }
   ],
   "source": [
    "L"
   ]
  },
  {
   "cell_type": "code",
   "execution_count": 13,
   "id": "e60add5a-a0b5-4a0b-959d-a563c715dee4",
   "metadata": {
    "tags": []
   },
   "outputs": [
    {
     "data": {
      "text/plain": [
       "array([[4.90000000e+01, 6.40000000e+01, 8.10000000e+01],\n",
       "       [1.77635684e-15, 4.10204082e+00, 9.55102041e+00],\n",
       "       [1.11022302e-16, 0.00000000e+00, 1.07462687e+00]])"
      ]
     },
     "execution_count": 13,
     "metadata": {},
     "output_type": "execute_result"
    }
   ],
   "source": [
    "U"
   ]
  },
  {
   "cell_type": "code",
   "execution_count": 14,
   "id": "f3e76602-964e-467f-b4ae-e4272b5855d2",
   "metadata": {
    "tags": []
   },
   "outputs": [
    {
     "data": {
      "text/plain": [
       "array([[ 1.,  4.,  9.],\n",
       "       [16., 25., 36.],\n",
       "       [49., 64., 81.]])"
      ]
     },
     "execution_count": 14,
     "metadata": {},
     "output_type": "execute_result"
    }
   ],
   "source": [
    "D #D = LU"
   ]
  },
  {
   "cell_type": "code",
   "execution_count": 17,
   "id": "33260b02-5051-4562-bfdb-01eeed230faf",
   "metadata": {
    "tags": []
   },
   "outputs": [
    {
     "data": {
      "text/plain": [
       "array([[ 1.,  4.,  9.],\n",
       "       [16., 25., 36.],\n",
       "       [49., 64., 81.]])"
      ]
     },
     "execution_count": 17,
     "metadata": {},
     "output_type": "execute_result"
    }
   ],
   "source": [
    "P@L@U"
   ]
  },
  {
   "cell_type": "code",
   "execution_count": null,
   "id": "be09f353-a348-49b7-8aee-8790bedfc833",
   "metadata": {},
   "outputs": [],
   "source": []
  }
 ],
 "metadata": {
  "kernelspec": {
   "display_name": "Python 3 (ipykernel)",
   "language": "python",
   "name": "python3"
  },
  "language_info": {
   "codemirror_mode": {
    "name": "ipython",
    "version": 3
   },
   "file_extension": ".py",
   "mimetype": "text/x-python",
   "name": "python",
   "nbconvert_exporter": "python",
   "pygments_lexer": "ipython3",
   "version": "3.10.6"
  }
 },
 "nbformat": 4,
 "nbformat_minor": 5
}
