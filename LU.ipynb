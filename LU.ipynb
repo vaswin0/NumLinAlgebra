{
 "cells": [
  {
   "cell_type": "code",
   "execution_count": 1,
   "id": "896b878e-ec5a-4107-898b-4cdcf6ab3799",
   "metadata": {
    "tags": []
   },
   "outputs": [],
   "source": [
    "import numpy as np"
   ]
  },
  {
   "cell_type": "code",
   "execution_count": 2,
   "id": "8aceb33e-de73-4e22-ae4a-19a689435b57",
   "metadata": {
    "tags": []
   },
   "outputs": [],
   "source": [
    "AA= [[1,-1,-1,1], [2,0,2,0],[0,-1,-2,0],[3,-3,-2,4]]\n",
    "AA = np.array(AA).astype(np.float_)\n",
    "\n",
    "B =  np.random.randint(0, 64, (5,5)).astype(np.float_)\n",
    "\n",
    "\n",
    "C = [[-7,  1 , 5 ,-1],\n",
    " [-2 ,-4,  4 , 5],\n",
    " [ 3 , 4 , 1, -1]]\n",
    "\n",
    "C = np.array(C).astype(np.float_)\n",
    "\n",
    "D =  np.array([[1,4,9],\n",
    "               [16,25,36],\n",
    "               [49,64,81]]).astype(np.float_)"
   ]
  },
  {
   "cell_type": "code",
   "execution_count": 3,
   "id": "b6372c1e-b205-4cf7-a66c-114c9da272c3",
   "metadata": {
    "tags": []
   },
   "outputs": [],
   "source": [
    "U =  D.copy()\n",
    "L = np.identity(3)\n",
    "\n",
    "n = 3\n",
    "\n",
    "for j in range(0, n-1):\n",
    "    for i in range(j+1, n):\n",
    "        L[i,j] = U[i,j]/U[j,j]\n",
    "        \n",
    "        for k in range(j,n):\n",
    "            U[i,k] = U[i,k] - L[i,j]*U[j,k]"
   ]
  },
  {
   "cell_type": "code",
   "execution_count": 4,
   "id": "4d8280ce-2f23-41e5-a0a7-1c825055a701",
   "metadata": {
    "tags": []
   },
   "outputs": [
    {
     "data": {
      "text/plain": [
       "array([[ 1.        ,  0.        ,  0.        ],\n",
       "       [16.        ,  1.        ,  0.        ],\n",
       "       [49.        ,  3.38461538,  1.        ]])"
      ]
     },
     "execution_count": 4,
     "metadata": {},
     "output_type": "execute_result"
    }
   ],
   "source": [
    "L"
   ]
  },
  {
   "cell_type": "code",
   "execution_count": 5,
   "id": "9850e340-6e3b-4a4b-889f-89afa2652dc3",
   "metadata": {
    "tags": []
   },
   "outputs": [
    {
     "data": {
      "text/plain": [
       "array([[   1.        ,    4.        ,    9.        ],\n",
       "       [   0.        ,  -39.        , -108.        ],\n",
       "       [   0.        ,    0.        ,    5.53846154]])"
      ]
     },
     "execution_count": 5,
     "metadata": {},
     "output_type": "execute_result"
    }
   ],
   "source": [
    "U"
   ]
  },
  {
   "cell_type": "code",
   "execution_count": null,
   "id": "fc639389-6d41-404c-94d6-6bf79992ebf0",
   "metadata": {},
   "outputs": [],
   "source": []
  }
 ],
 "metadata": {
  "kernelspec": {
   "display_name": "Python 3 (ipykernel)",
   "language": "python",
   "name": "python3"
  },
  "language_info": {
   "codemirror_mode": {
    "name": "ipython",
    "version": 3
   },
   "file_extension": ".py",
   "mimetype": "text/x-python",
   "name": "python",
   "nbconvert_exporter": "python",
   "pygments_lexer": "ipython3",
   "version": "3.10.6"
  }
 },
 "nbformat": 4,
 "nbformat_minor": 5
}
