{
 "cells": [
  {
   "cell_type": "code",
   "execution_count": 1,
   "id": "1b869b95-8d2d-492f-8bfd-c780377902c4",
   "metadata": {},
   "outputs": [],
   "source": [
    "import numpy as np"
   ]
  },
  {
   "cell_type": "code",
   "execution_count": 2,
   "id": "fc4a770b-eb72-497e-9c5e-b59114796237",
   "metadata": {
    "tags": []
   },
   "outputs": [],
   "source": [
    "AA= [[1,-1,-1,1], [2,0,2,0],[0,-1,-2,0],[3,-3,-2,4]]\n",
    "AA = np.array(AA)"
   ]
  },
  {
   "cell_type": "code",
   "execution_count": 13,
   "id": "51c72367-8a37-496b-9e53-8dd07e9278f7",
   "metadata": {
    "tags": []
   },
   "outputs": [],
   "source": [
    "B =  np.random.randint(0, 64, (10,10))"
   ]
  },
  {
   "cell_type": "code",
   "execution_count": 14,
   "id": "34d3427b-b499-455c-9f47-bebf83c08e00",
   "metadata": {
    "tags": []
   },
   "outputs": [],
   "source": [
    "C = [[-7,  1 , 5 ,-1],\n",
    " [-2 ,-4,  4 , 5],\n",
    " [ 3 , 4 , 1, -1]]\n",
    "\n",
    "C = np.array(C)"
   ]
  },
  {
   "cell_type": "code",
   "execution_count": 9,
   "id": "84cfb321-6219-4bf9-a491-857ef51de40b",
   "metadata": {
    "tags": []
   },
   "outputs": [],
   "source": [
    "def gaussEli(A):\n",
    "    findaswap =  False\n",
    "    \n",
    "\n",
    "    for i in range(A.shape[0] - 1):\n",
    "        for j in range(A.shape[1] - 1):\n",
    "            if i == j :\n",
    "\n",
    "\n",
    "                if A[i,i] == 0:\n",
    "                    for n in range(i+1, A.shape[0]):\n",
    "                        if A[n,i] != 0:\n",
    "                            findaswap == True\n",
    "                            A[[i, n]] = A[[n, i]]\n",
    "                            \n",
    "                            break\n",
    "                            \n",
    "                        if findaswap == False :\n",
    "                            print (\"elimination not possible\")\n",
    "                            #print(A)\n",
    "                            #print(i)\n",
    "                            return \n",
    "                        \n",
    "                            \n",
    "    \n",
    "\n",
    "                \n",
    "\n",
    "                for k in range(i+1, A.shape[0]):\n",
    "\n",
    "\n",
    "\n",
    "                    A[k] = A[k] - (A[k,i]/A[i,i])*A[i]\n",
    "                    \n",
    "              \n",
    "                    \n",
    "    return A\n",
    "                    \n",
    "\n"
   ]
  },
  {
   "cell_type": "code",
   "execution_count": 10,
   "id": "362e2bf8-4f14-493c-8c7b-c444c9c5cb59",
   "metadata": {
    "tags": []
   },
   "outputs": [],
   "source": [
    "class Matrixx(np.matrix):\n",
    "    def eli(self):\n",
    "        return gaussEli(self)\n",
    "    \n",
    "    \n",
    "        \n",
    "        \n",
    "    "
   ]
  },
  {
   "cell_type": "code",
   "execution_count": 7,
   "id": "0c9f0f01-a0ac-4bd2-a47d-c9053640350c",
   "metadata": {},
   "outputs": [],
   "source": [
    "c = Matrixx(AA) \n"
   ]
  },
  {
   "cell_type": "code",
   "execution_count": 11,
   "id": "1de8f4a7-f187-417b-a646-3b941f3bc52b",
   "metadata": {
    "tags": []
   },
   "outputs": [
    {
     "data": {
      "text/plain": [
       "Matrixx([[ 1, -1, -1,  1],\n",
       "         [ 0,  2,  4, -2],\n",
       "         [ 0,  0,  1,  1],\n",
       "         [ 0,  0,  0, -1]])"
      ]
     },
     "execution_count": 11,
     "metadata": {},
     "output_type": "execute_result"
    }
   ],
   "source": [
    "c.eli()"
   ]
  },
  {
   "cell_type": "code",
   "execution_count": 15,
   "id": "d6d048c7-9eca-49fc-af17-2b3f0847ec6c",
   "metadata": {
    "tags": []
   },
   "outputs": [
    {
     "data": {
      "text/plain": [
       "Matrixx([[  10,   16,   60,   18,    8,    0,    9,   49,   17,   50],\n",
       "         [   0,   29,  -37,  -14,   -7,   51,   14,  -12,   17,  -62],\n",
       "         [   0,    0, -128,  -21,  -14,    3,   25,  -59,  -29,  -76],\n",
       "         [   0,    0,    0,  -59,    1,  165,  -69,  -80,   64, -182],\n",
       "         [   0,    0,    0,    0,   44,   50,    0,   24,   56,  -19],\n",
       "         [   0,    0,    0,    0,    0, -140,    2,  -65,  -92,   46],\n",
       "         [   0,    0,    0,    0,    0,    0,   -3,  -79,  -69,  -62],\n",
       "         [   0,    0,    0,    0,    0,    0,    0,  136,  164,  126],\n",
       "         [   0,    0,    0,    0,    0,    0,    0,    0,   30,   57],\n",
       "         [   0,    0,    0,    0,    0,    0,    0,    0,    0,  -19]])"
      ]
     },
     "execution_count": 15,
     "metadata": {},
     "output_type": "execute_result"
    }
   ],
   "source": [
    "Matrixx(B).eli()"
   ]
  },
  {
   "cell_type": "code",
   "execution_count": 16,
   "id": "61e746fd-be4c-47c2-b079-522d04343e9f",
   "metadata": {
    "tags": []
   },
   "outputs": [
    {
     "data": {
      "text/plain": [
       "Matrixx([[-7,  1,  5, -1],\n",
       "         [ 0, -4,  2,  5],\n",
       "         [ 0,  0,  5,  4]])"
      ]
     },
     "execution_count": 16,
     "metadata": {},
     "output_type": "execute_result"
    }
   ],
   "source": [
    "Matrixx(C).eli()"
   ]
  },
  {
   "cell_type": "code",
   "execution_count": null,
   "id": "ddd87ac5-e2a1-471e-b194-fe77e3134b51",
   "metadata": {},
   "outputs": [],
   "source": []
  },
  {
   "cell_type": "code",
   "execution_count": 4,
   "id": "8c3c04ec-cf48-493c-930f-c7c5bc8b48ae",
   "metadata": {
    "tags": []
   },
   "outputs": [
    {
     "data": {
      "text/plain": [
       "array([[ 1, -1, -1,  1],\n",
       "       [ 0,  2,  4, -2],\n",
       "       [ 0,  0,  1,  1],\n",
       "       [ 0,  0,  0, -1]])"
      ]
     },
     "execution_count": 4,
     "metadata": {},
     "output_type": "execute_result"
    }
   ],
   "source": [
    "gaussEli(AA)"
   ]
  },
  {
   "cell_type": "code",
   "execution_count": null,
   "id": "41b84c00-6f0e-4037-81dc-bfc2feac90c8",
   "metadata": {},
   "outputs": [],
   "source": []
  }
 ],
 "metadata": {
  "kernelspec": {
   "display_name": "Python 3 (ipykernel)",
   "language": "python",
   "name": "python3"
  },
  "language_info": {
   "codemirror_mode": {
    "name": "ipython",
    "version": 3
   },
   "file_extension": ".py",
   "mimetype": "text/x-python",
   "name": "python",
   "nbconvert_exporter": "python",
   "pygments_lexer": "ipython3",
   "version": "3.10.6"
  }
 },
 "nbformat": 4,
 "nbformat_minor": 5
}
