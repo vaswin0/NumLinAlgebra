{
 "cells": [
  {
   "cell_type": "code",
   "execution_count": 1,
   "id": "1b869b95-8d2d-492f-8bfd-c780377902c4",
   "metadata": {},
   "outputs": [],
   "source": [
    "import numpy as np"
   ]
  },
  {
   "cell_type": "code",
   "execution_count": 13,
   "id": "fc4a770b-eb72-497e-9c5e-b59114796237",
   "metadata": {
    "tags": []
   },
   "outputs": [],
   "source": [
    "A= [[1,-1,-1,1], [2,0,2,0],[0,-1,-2,0],[3,-3,-2,4]]\n",
    "A = np.array(A)"
   ]
  },
  {
   "cell_type": "code",
   "execution_count": 33,
   "id": "51c72367-8a37-496b-9e53-8dd07e9278f7",
   "metadata": {
    "tags": []
   },
   "outputs": [],
   "source": [
    "A =  np.random.randint(0, 64, (10,10))"
   ]
  },
  {
   "cell_type": "code",
   "execution_count": 11,
   "id": "34d3427b-b499-455c-9f47-bebf83c08e00",
   "metadata": {
    "tags": []
   },
   "outputs": [],
   "source": [
    "A3 = [[-7,  1 , 5 ,-1],\n",
    " [-2 ,-4,  4 , 5],\n",
    " [ 3 , 4 , 1, -1]]\n",
    "\n",
    "A3 = np.array(A3)"
   ]
  },
  {
   "cell_type": "code",
   "execution_count": 28,
   "id": "84cfb321-6219-4bf9-a491-857ef51de40b",
   "metadata": {
    "tags": []
   },
   "outputs": [],
   "source": [
    "def gaussEli(A):\n",
    "    findaswap =  False\n",
    "    \n",
    "\n",
    "    for i in range(A.shape[0] - 1):\n",
    "        for j in range(A.shape[1] - 1):\n",
    "            if i == j :\n",
    "\n",
    "\n",
    "                if A[i,i] == 0:\n",
    "                    for n in range(i+1, A.shape[0]):\n",
    "                        if A[n,i] != 0:\n",
    "                            findaswap == True\n",
    "                            A[[i, n]] = A[[n, i]]\n",
    "                            break\n",
    "                            \n",
    "                    if findaswap == False :\n",
    "                        print (\"elimination not possible\")\n",
    "                        return \n",
    "                        \n",
    "                            \n",
    "    \n",
    "\n",
    "                \n",
    "\n",
    "                for k in range(i+1, A.shape[0]):\n",
    "\n",
    "\n",
    "\n",
    "                    A[k] = A[k] - (A[k,i]/A[i,i])*A[i]\n",
    "                    \n",
    "              \n",
    "                    \n",
    "    return A\n",
    "                    \n",
    "\n"
   ]
  },
  {
   "cell_type": "code",
   "execution_count": 29,
   "id": "20ec4624-484f-43db-96b3-5c4f0d61f70d",
   "metadata": {},
   "outputs": [],
   "source": [
    "qq = gaussEli(A)"
   ]
  },
  {
   "cell_type": "code",
   "execution_count": 30,
   "id": "d1911749-67bc-4af3-9f13-d93e3297e5dc",
   "metadata": {
    "tags": []
   },
   "outputs": [
    {
     "data": {
      "text/plain": [
       "array([[ 1, -1, -1,  1],\n",
       "       [ 0,  2,  4, -2],\n",
       "       [ 0,  0,  1,  1],\n",
       "       [ 0,  0,  0, -1]])"
      ]
     },
     "execution_count": 30,
     "metadata": {},
     "output_type": "execute_result"
    }
   ],
   "source": [
    "qq"
   ]
  },
  {
   "cell_type": "code",
   "execution_count": 24,
   "id": "362e2bf8-4f14-493c-8c7b-c444c9c5cb59",
   "metadata": {
    "tags": []
   },
   "outputs": [],
   "source": [
    "class Matrix(np.ndarray):\n",
    "    \n",
    "        \n",
    "        \n",
    "    "
   ]
  },
  {
   "cell_type": "code",
   "execution_count": null,
   "id": "0c9f0f01-a0ac-4bd2-a47d-c9053640350c",
   "metadata": {},
   "outputs": [],
   "source": []
  }
 ],
 "metadata": {
  "kernelspec": {
   "display_name": "Python 3 (ipykernel)",
   "language": "python",
   "name": "python3"
  },
  "language_info": {
   "codemirror_mode": {
    "name": "ipython",
    "version": 3
   },
   "file_extension": ".py",
   "mimetype": "text/x-python",
   "name": "python",
   "nbconvert_exporter": "python",
   "pygments_lexer": "ipython3",
   "version": "3.10.6"
  }
 },
 "nbformat": 4,
 "nbformat_minor": 5
}
