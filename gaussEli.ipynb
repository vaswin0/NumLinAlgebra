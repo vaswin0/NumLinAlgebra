{
 "cells": [
  {
   "cell_type": "code",
   "execution_count": 1,
   "id": "1b869b95-8d2d-492f-8bfd-c780377902c4",
   "metadata": {},
   "outputs": [],
   "source": [
    "import numpy as np"
   ]
  },
  {
   "cell_type": "code",
   "execution_count": 30,
   "id": "fc4a770b-eb72-497e-9c5e-b59114796237",
   "metadata": {
    "tags": []
   },
   "outputs": [],
   "source": [
    "AA= [[1,-1,-1,1], [2,0,2,0],[0,-1,-2,0],[3,-3,-2,4]]\n",
    "AA = np.array(AA).astype(np.float_)\n",
    "\n",
    "B =  np.random.randint(0, 64, (10,10)).astype(np.float_)\n",
    "\n",
    "\n",
    "C = [[-7,  1 , 5 ,-1],\n",
    " [-2 ,-4,  4 , 5],\n",
    " [ 3 , 4 , 1, -1]]\n",
    "\n",
    "C = np.array(C).astype(np.float_)\n",
    "\n",
    "D =  np.array([[1,4,9],\n",
    "               [16,25,36],\n",
    "               [49,64,81]]).astype(np.float_)"
   ]
  },
  {
   "cell_type": "code",
   "execution_count": 3,
   "id": "54345515-d3ab-4d59-a681-b99db9075cc4",
   "metadata": {
    "tags": []
   },
   "outputs": [],
   "source": [
    "def gaussEli(Y):\n",
    "    A = Y.copy()\n",
    "    \n",
    "    findaswap =  False\n",
    "    j = 0\n",
    "    \n",
    "\n",
    "    #for i in range(A.shape[0] - 1):\n",
    "    for i in range(0,A.shape[0]):\n",
    "       \n",
    "\n",
    "\n",
    "            if A[i,i] == 0:\n",
    "                for n in range(i+1, A.shape[0]):\n",
    "                    if A[n,i] != 0:\n",
    "                        findaswap == True\n",
    "                        A[[i, n]] = A[[n, i]]\n",
    "\n",
    "                        break\n",
    "\n",
    "                    if findaswap == False :\n",
    "                        print (\"elimination not possible\")\n",
    "                        #print(A)\n",
    "                        #print(i)\n",
    "                        return \n",
    "\n",
    "\n",
    "\n",
    "\n",
    "\n",
    "\n",
    "            for k in range(i+1, A.shape[0]):\n",
    "                \n",
    "\n",
    "\n",
    "\n",
    "                A[k] = A[k] - (A[k,i]/A[i,i])*A[i]\n",
    "                print(A)\n",
    "\n",
    "              \n",
    "                    \n",
    "    return A\n",
    "                    \n",
    "\n"
   ]
  },
  {
   "cell_type": "code",
   "execution_count": 4,
   "id": "4c7a8fca-975f-40ab-bed1-8c6dd379fe32",
   "metadata": {
    "tags": []
   },
   "outputs": [],
   "source": [
    "def isrref(X):\n",
    "    \n",
    "\n",
    "        \n",
    "    return isrref_\n",
    "         \n",
    "    "
   ]
  },
  {
   "cell_type": "code",
   "execution_count": 5,
   "id": "22db4102-dd97-4b2e-9bbe-9a7676c3bcbb",
   "metadata": {
    "tags": []
   },
   "outputs": [
    {
     "data": {
      "text/plain": [
       "False"
      ]
     },
     "execution_count": 5,
     "metadata": {},
     "output_type": "execute_result"
    }
   ],
   "source": [
    "isrref(D)"
   ]
  },
  {
   "cell_type": "code",
   "execution_count": 27,
   "id": "bfc16c17-df42-40fb-a26f-79c33276eedf",
   "metadata": {
    "tags": []
   },
   "outputs": [],
   "source": [
    "def gaussJordanEli(X):\n",
    "    A = X.copy()\n",
    "    \n",
    "    findaswap =  False\n",
    "    j = 0\n",
    "    \n",
    "\n",
    "    for i in range(0, A.shape[0]):\n",
    "        \n",
    "\n",
    "            \n",
    "       \n",
    "\n",
    "\n",
    "        if A[i,i] == 0:\n",
    "            \n",
    "            for n in range(i+1, A.shape[0]):\n",
    "                if A[n,i] != 0:\n",
    "                    findaswap == True\n",
    "                    A[[i, n]] = A[[n, i]]\n",
    "\n",
    "                    break\n",
    "\n",
    "                if findaswap == False :\n",
    "                    print (\"elimination not possible\")\n",
    "\n",
    "                    return \n",
    "\n",
    "\n",
    "\n",
    "        if A[i,i] == 0:\n",
    "            return A\n",
    "\n",
    "        A[i] = A[i]/A[i,i]\n",
    "        \n",
    "        \n",
    "        \n",
    "        for k in range(0, A.shape[0]):\n",
    "            \n",
    "         \n",
    "           \n",
    "\n",
    "            if k == i:\n",
    "                continue\n",
    "\n",
    "           \n",
    "            \n",
    "\n",
    "            A[k] = A[k] - (A[k,i]/A[i,i])*A[i]\n",
    "          \n",
    "\n",
    "              \n",
    "                    \n",
    "    return A\n",
    "                    \n",
    "\n"
   ]
  },
  {
   "cell_type": "code",
   "execution_count": null,
   "id": "362e2bf8-4f14-493c-8c7b-c444c9c5cb59",
   "metadata": {
    "tags": []
   },
   "outputs": [],
   "source": [
    "class Matrixx(np.matrix):\n",
    "    def eli(self):\n",
    "        return gaussEli(self)\n",
    "    \n",
    "    \n",
    "        \n",
    "        \n",
    "    "
   ]
  },
  {
   "cell_type": "code",
   "execution_count": 31,
   "id": "26baefc3-6cec-4870-bd8d-696b802d105a",
   "metadata": {
    "tags": []
   },
   "outputs": [
    {
     "data": {
      "text/plain": [
       "array([[ 1.,  0.,  0.],\n",
       "       [-0.,  1.,  0.],\n",
       "       [ 0.,  0.,  1.]])"
      ]
     },
     "execution_count": 31,
     "metadata": {},
     "output_type": "execute_result"
    }
   ],
   "source": [
    "gaussJordanEli(D)"
   ]
  },
  {
   "cell_type": "code",
   "execution_count": 32,
   "id": "8acdfc41-0cea-4f49-af9d-f0564e728d1e",
   "metadata": {},
   "outputs": [
    {
     "name": "stdout",
     "output_type": "stream",
     "text": [
      "[[   1.    4.    9.]\n",
      " [   0.  -39. -108.]\n",
      " [  49.   64.   81.]]\n",
      "[[   1.    4.    9.]\n",
      " [   0.  -39. -108.]\n",
      " [   0. -132. -360.]]\n",
      "[[   1.            4.            9.        ]\n",
      " [   0.          -39.         -108.        ]\n",
      " [   0.            0.            5.53846154]]\n"
     ]
    },
    {
     "data": {
      "text/plain": [
       "array([[   1.        ,    4.        ,    9.        ],\n",
       "       [   0.        ,  -39.        , -108.        ],\n",
       "       [   0.        ,    0.        ,    5.53846154]])"
      ]
     },
     "execution_count": 32,
     "metadata": {},
     "output_type": "execute_result"
    }
   ],
   "source": [
    "gaussEli(D)"
   ]
  },
  {
   "cell_type": "code",
   "execution_count": null,
   "id": "9fcbbde2-7f4b-437e-b794-3441297152b8",
   "metadata": {},
   "outputs": [],
   "source": []
  }
 ],
 "metadata": {
  "kernelspec": {
   "display_name": "Python 3 (ipykernel)",
   "language": "python",
   "name": "python3"
  },
  "language_info": {
   "codemirror_mode": {
    "name": "ipython",
    "version": 3
   },
   "file_extension": ".py",
   "mimetype": "text/x-python",
   "name": "python",
   "nbconvert_exporter": "python",
   "pygments_lexer": "ipython3",
   "version": "3.10.6"
  }
 },
 "nbformat": 4,
 "nbformat_minor": 5
}
