{
 "cells": [
  {
   "cell_type": "code",
   "execution_count": 1,
   "id": "1b869b95-8d2d-492f-8bfd-c780377902c4",
   "metadata": {},
   "outputs": [],
   "source": [
    "import numpy as np"
   ]
  },
  {
   "cell_type": "code",
   "execution_count": 2,
   "id": "fc4a770b-eb72-497e-9c5e-b59114796237",
   "metadata": {
    "tags": []
   },
   "outputs": [],
   "source": [
    "AA= [[1,-1,-1,1], [2,0,2,0],[0,-1,-2,0],[3,-3,-2,4]]\n",
    "AA = np.array(AA).astype(np.float)\n",
    "\n",
    "B =  np.random.randint(0, 64, (10,10))\n",
    "B = B.astype(np.float)\n",
    "\n",
    "C = [[-7,  1 , 5 ,-1],\n",
    " [-2 ,-4,  4 , 5],\n",
    " [ 3 , 4 , 1, -1]]\n",
    "\n",
    "C = np.array(C)\n",
    "C = C.astype(np.float_)"
   ]
  },
  {
   "cell_type": "code",
   "execution_count": 5,
   "id": "54345515-d3ab-4d59-a681-b99db9075cc4",
   "metadata": {
    "tags": []
   },
   "outputs": [],
   "source": [
    "def gaussEli(Y):\n",
    "    A = Y.copy()\n",
    "    \n",
    "    findaswap =  False\n",
    "    j = 0\n",
    "    \n",
    "\n",
    "    #for i in range(A.shape[0] - 1):\n",
    "    for i in range(0,A.shape[0]):\n",
    "       \n",
    "\n",
    "\n",
    "            if A[i,i] == 0:\n",
    "                for n in range(i+1, A.shape[0]):\n",
    "                    if A[n,i] != 0:\n",
    "                        findaswap == True\n",
    "                        A[[i, n]] = A[[n, i]]\n",
    "\n",
    "                        break\n",
    "\n",
    "                    if findaswap == False :\n",
    "                        print (\"elimination not possible\")\n",
    "                        #print(A)\n",
    "                        #print(i)\n",
    "                        return \n",
    "\n",
    "\n",
    "\n",
    "\n",
    "\n",
    "\n",
    "            for k in range(i+1, A.shape[0]):\n",
    "\n",
    "\n",
    "\n",
    "                A[k] = A[k] - (A[k,i]/A[i,i])*A[i]\n",
    "\n",
    "              \n",
    "                    \n",
    "    return A\n",
    "                    \n",
    "\n"
   ]
  },
  {
   "cell_type": "code",
   "execution_count": 65,
   "id": "bfc16c17-df42-40fb-a26f-79c33276eedf",
   "metadata": {
    "tags": []
   },
   "outputs": [],
   "source": [
    "def gaussJordanEli(X):\n",
    "    A = X.copy()\n",
    "    \n",
    "    findaswap =  False\n",
    "    j = 0\n",
    "    \n",
    "\n",
    "    for i in range(0, A.shape[0]):\n",
    "       \n",
    "\n",
    "\n",
    "            if A[i,i] == 0:\n",
    "                for n in range(i+1, A.shape[0]):\n",
    "                    if A[n,i] != 0:\n",
    "                        findaswap == True\n",
    "                        A[[i, n]] = A[[n, i]]\n",
    "\n",
    "                        break\n",
    "\n",
    "                    if findaswap == False :\n",
    "                        print (\"elimination not possible\")\n",
    "                      \n",
    "                        return \n",
    "\n",
    "\n",
    "\n",
    "\n",
    "\n",
    "            A[i] = A[i]/A[i,i]\n",
    "            for k in range(0, A.shape[0]):\n",
    "                \n",
    "                if k == i:\n",
    "                    continue\n",
    "\n",
    "\n",
    "\n",
    "                A[k] = A[k] - (A[k,i]/A[i,i])*A[i]\n",
    "\n",
    "              \n",
    "                    \n",
    "    return A\n",
    "                    \n",
    "\n"
   ]
  },
  {
   "cell_type": "code",
   "execution_count": 7,
   "id": "362e2bf8-4f14-493c-8c7b-c444c9c5cb59",
   "metadata": {
    "tags": []
   },
   "outputs": [],
   "source": [
    "class Matrixx(np.matrix):\n",
    "    def eli(self):\n",
    "        return gaussEli(self)\n",
    "    \n",
    "    \n",
    "        \n",
    "        \n",
    "    "
   ]
  },
  {
   "cell_type": "code",
   "execution_count": 68,
   "id": "aefbfae4-0dcc-48b8-8ff5-f51b0e236302",
   "metadata": {},
   "outputs": [
    {
     "data": {
      "text/plain": [
       "array([[ 1, -1, -1,  1],\n",
       "       [ 0,  2,  4, -2],\n",
       "       [ 0,  0,  1,  1],\n",
       "       [ 0,  0,  0, -1]])"
      ]
     },
     "execution_count": 68,
     "metadata": {},
     "output_type": "execute_result"
    }
   ],
   "source": [
    "gaussEli(AA)"
   ]
  },
  {
   "cell_type": "code",
   "execution_count": 71,
   "id": "2bfd8ddd-0542-4be8-a4a5-6ea31df07c4e",
   "metadata": {
    "tags": []
   },
   "outputs": [
    {
     "data": {
      "text/plain": [
       "array([[ 1.        ,  0.        ,  0.        ,  0.52298851],\n",
       "       [ 0.        ,  1.        ,  0.        , -0.81609195],\n",
       "       [ 0.        ,  0.        ,  1.        ,  0.6954023 ]])"
      ]
     },
     "execution_count": 71,
     "metadata": {},
     "output_type": "execute_result"
    }
   ],
   "source": [
    "gaussJordanEli(C)"
   ]
  },
  {
   "cell_type": "code",
   "execution_count": null,
   "id": "2d8ac5ea-de9d-480d-92d6-f4cffc3a90db",
   "metadata": {},
   "outputs": [],
   "source": []
  }
 ],
 "metadata": {
  "kernelspec": {
   "display_name": "Python 3 (ipykernel)",
   "language": "python",
   "name": "python3"
  },
  "language_info": {
   "codemirror_mode": {
    "name": "ipython",
    "version": 3
   },
   "file_extension": ".py",
   "mimetype": "text/x-python",
   "name": "python",
   "nbconvert_exporter": "python",
   "pygments_lexer": "ipython3",
   "version": "3.10.6"
  }
 },
 "nbformat": 4,
 "nbformat_minor": 5
}
