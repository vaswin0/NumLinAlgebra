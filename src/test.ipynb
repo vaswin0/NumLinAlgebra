{
 "cells": [
  {
   "cell_type": "code",
   "execution_count": null,
   "id": "ee5f34a6",
   "metadata": {},
   "outputs": [],
   "source": [
    "#implementation of some routines might be erroneous"
   ]
  },
  {
   "cell_type": "code",
   "execution_count": 1,
   "id": "4280fc81",
   "metadata": {},
   "outputs": [],
   "source": [
    "import matrix\n",
    "import numpy as np\n",
    "import sympy\n"
   ]
  },
  {
   "cell_type": "code",
   "execution_count": null,
   "id": "3261d4b9",
   "metadata": {},
   "outputs": [],
   "source": [
    "#sympy.Matrix([[1,2,3],[4,5,6],[7,8,9]]).rref()\n",
    "\n"
   ]
  },
  {
   "cell_type": "code",
   "execution_count": null,
   "id": "8303decf",
   "metadata": {},
   "outputs": [],
   "source": [
    "# Define a list of lists\n",
    "mat1 = [\n",
    "    [1.0, 2.0, 3.0],\n",
    "    [4.0, 5.0, 6.0],\n",
    "    [7.0, 8.0, 9.0]\n",
    "]\n",
    "\n",
    "\n",
    "\n",
    "mat2 = [\n",
    "    [1.0, 4.0, 9.0],\n",
    "    [16.0, 25.0, 36.0],\n",
    "    [49.0, 64.0, 81.0]\n",
    "]\n",
    "\n",
    "# Initialize the matrix from the list of lists\n",
    "m1 = matrix.Matrix(mat1)\n",
    "m2 = matrix.Matrix(mat2)\n",
    "\n",
    "\n"
   ]
  },
  {
   "cell_type": "code",
   "execution_count": null,
   "id": "da41a631",
   "metadata": {},
   "outputs": [],
   "source": [
    "type(m1)"
   ]
  },
  {
   "cell_type": "code",
   "execution_count": null,
   "id": "91df5840",
   "metadata": {},
   "outputs": [],
   "source": [
    "m1+m2"
   ]
  },
  {
   "cell_type": "code",
   "execution_count": null,
   "id": "a931d49c",
   "metadata": {},
   "outputs": [],
   "source": [
    "m1.gaussEli()"
   ]
  },
  {
   "cell_type": "code",
   "execution_count": null,
   "id": "ffdf5fe8",
   "metadata": {},
   "outputs": [],
   "source": [
    "m2.gaussEli()"
   ]
  },
  {
   "cell_type": "code",
   "execution_count": null,
   "id": "e88a603d",
   "metadata": {},
   "outputs": [],
   "source": [
    "#m.cholesky()"
   ]
  },
  {
   "cell_type": "code",
   "execution_count": 2,
   "id": "5232078b",
   "metadata": {},
   "outputs": [],
   "source": [
    "X = [[0,1,-1,-1],\n",
    "     [1,1,-2,-3],\n",
    "     [3,-1,1,4]]\n",
    "\n",
    "X = [[1,-3,4,3],[2,-5,6,6],[-3,3,4,6]]\n",
    "\n",
    "X = [[-1,-2,1,-1],[2,3,0,2],[0,1,-2,0]]\n",
    "\n",
    "# Initialize the matrix from the list of lists\n",
    "m1 = matrix.Matrix(X)"
   ]
  },
  {
   "cell_type": "code",
   "execution_count": 3,
   "id": "22eb5790",
   "metadata": {},
   "outputs": [
    {
     "data": {
      "text/plain": [
       " 1 2 -1 1\n",
       " -0 1 -2 -0\n",
       " 0 0 0 0\n"
      ]
     },
     "execution_count": 3,
     "metadata": {},
     "output_type": "execute_result"
    }
   ],
   "source": [
    " m1.gaussEli()"
   ]
  },
  {
   "cell_type": "code",
   "execution_count": null,
   "id": "39b33e73",
   "metadata": {},
   "outputs": [],
   "source": [
    "m1"
   ]
  },
  {
   "cell_type": "code",
   "execution_count": null,
   "id": "b79c5e0e",
   "metadata": {},
   "outputs": [],
   "source": [
    "m1.transpose()"
   ]
  },
  {
   "cell_type": "code",
   "execution_count": null,
   "id": "a85ff07a",
   "metadata": {},
   "outputs": [],
   "source": [
    "m1"
   ]
  },
  {
   "cell_type": "code",
   "execution_count": null,
   "id": "a6492c8c",
   "metadata": {},
   "outputs": [],
   "source": []
  }
 ],
 "metadata": {
  "kernelspec": {
   "display_name": "Python3.9",
   "language": "python",
   "name": "python3.9"
  },
  "language_info": {
   "codemirror_mode": {
    "name": "ipython",
    "version": 3
   },
   "file_extension": ".py",
   "mimetype": "text/x-python",
   "name": "python",
   "nbconvert_exporter": "python",
   "pygments_lexer": "ipython3",
   "version": "3.9.21"
  }
 },
 "nbformat": 4,
 "nbformat_minor": 5
}
