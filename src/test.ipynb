{
 "cells": [
  {
   "cell_type": "code",
   "execution_count": null,
   "id": "ee5f34a6",
   "metadata": {},
   "outputs": [],
   "source": [
    "#implementation of some routines might be erroneous"
   ]
  },
  {
   "cell_type": "code",
   "execution_count": 1,
   "id": "4280fc81",
   "metadata": {},
   "outputs": [],
   "source": [
    "import matrix"
   ]
  },
  {
   "cell_type": "code",
   "execution_count": 3,
   "id": "8303decf",
   "metadata": {},
   "outputs": [
    {
     "data": {
      "text/plain": [
       " 1 2 3\n",
       " 0 -3 -6\n",
       " 0 0 0\n"
      ]
     },
     "execution_count": 3,
     "metadata": {},
     "output_type": "execute_result"
    }
   ],
   "source": [
    "# Define a list of lists\n",
    "mat = [\n",
    "    [1.0, 2.0, 3.0],\n",
    "    [4.0, 5.0, 6.0],\n",
    "    [7.0, 8.0, 9.0]\n",
    "]\n",
    "\n",
    "# Initialize the matrix from the list of lists\n",
    "m = matrix.Matrix(mat)\n",
    "\n",
    "m.gaussEli()"
   ]
  },
  {
   "cell_type": "code",
   "execution_count": 4,
   "id": "e88a603d",
   "metadata": {},
   "outputs": [
    {
     "data": {
      "text/plain": [
       " 1 2 3\n",
       " 0 -nan -6\n",
       " 0 -nan 0\n"
      ]
     },
     "execution_count": 4,
     "metadata": {},
     "output_type": "execute_result"
    }
   ],
   "source": [
    "m.cholesky()"
   ]
  },
  {
   "cell_type": "code",
   "execution_count": null,
   "id": "5232078b",
   "metadata": {},
   "outputs": [],
   "source": []
  }
 ],
 "metadata": {
  "kernelspec": {
   "display_name": "Python3.9",
   "language": "python",
   "name": "python3.9"
  },
  "language_info": {
   "codemirror_mode": {
    "name": "ipython",
    "version": 3
   },
   "file_extension": ".py",
   "mimetype": "text/x-python",
   "name": "python",
   "nbconvert_exporter": "python",
   "pygments_lexer": "ipython3",
   "version": "3.9.21"
  }
 },
 "nbformat": 4,
 "nbformat_minor": 5
}
