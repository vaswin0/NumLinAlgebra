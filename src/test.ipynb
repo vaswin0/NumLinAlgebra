{
 "cells": [
  {
   "cell_type": "code",
   "execution_count": null,
   "id": "ee5f34a6",
   "metadata": {},
   "outputs": [],
   "source": [
    "#implementation of some routines might be erroneous"
   ]
  },
  {
   "cell_type": "code",
   "execution_count": 1,
   "id": "4280fc81",
   "metadata": {},
   "outputs": [],
   "source": [
    "import matrix\n",
    "import numpy as np\n",
    "import sympy\n"
   ]
  },
  {
   "cell_type": "code",
   "execution_count": 2,
   "id": "3261d4b9",
   "metadata": {},
   "outputs": [],
   "source": [
    "#sympy.Matrix([[1,2,3],[4,5,6],[7,8,9]]).rref()\n",
    "\n"
   ]
  },
  {
   "cell_type": "code",
   "execution_count": 3,
   "id": "8303decf",
   "metadata": {},
   "outputs": [],
   "source": [
    "# Define a list of lists\n",
    "mat1 = [\n",
    "    [1.0, 2.0, 3.0],\n",
    "    [4.0, 5.0, 6.0],\n",
    "    [7.0, 8.0, 9.0]\n",
    "]\n",
    "\n",
    "\n",
    "\n",
    "mat2 = [\n",
    "    [1.0, 4.0, 9.0],\n",
    "    [16.0, 25.0, 36.0],\n",
    "    [49.0, 64.0, 81.0]\n",
    "]\n",
    "\n",
    "# Initialize the matrix from the list of lists\n",
    "m1 = matrix.Matrix(mat1)\n",
    "m2 = matrix.Matrix(mat2)\n",
    "\n",
    "\n"
   ]
  },
  {
   "cell_type": "code",
   "execution_count": 5,
   "id": "da41a631",
   "metadata": {},
   "outputs": [
    {
     "data": {
      "text/plain": [
       "matrix.Matrix"
      ]
     },
     "execution_count": 5,
     "metadata": {},
     "output_type": "execute_result"
    }
   ],
   "source": [
    "type(m1)"
   ]
  },
  {
   "cell_type": "code",
   "execution_count": 4,
   "id": "91df5840",
   "metadata": {},
   "outputs": [
    {
     "data": {
      "text/plain": [
       " 2 6 12\n",
       " 20 30 42\n",
       " 56 72 90\n"
      ]
     },
     "execution_count": 4,
     "metadata": {},
     "output_type": "execute_result"
    }
   ],
   "source": [
    "m1+m2"
   ]
  },
  {
   "cell_type": "code",
   "execution_count": null,
   "id": "a931d49c",
   "metadata": {},
   "outputs": [],
   "source": [
    "m.gaussEli()"
   ]
  },
  {
   "cell_type": "code",
   "execution_count": 4,
   "id": "e88a603d",
   "metadata": {},
   "outputs": [
    {
     "data": {
      "text/plain": [
       " 1 2 3\n",
       " 0 -nan -6\n",
       " 0 -nan 0\n"
      ]
     },
     "execution_count": 4,
     "metadata": {},
     "output_type": "execute_result"
    }
   ],
   "source": [
    "m.cholesky()"
   ]
  },
  {
   "cell_type": "code",
   "execution_count": null,
   "id": "5232078b",
   "metadata": {},
   "outputs": [],
   "source": []
  }
 ],
 "metadata": {
  "kernelspec": {
   "display_name": "Python3.9",
   "language": "python",
   "name": "python3.9"
  },
  "language_info": {
   "codemirror_mode": {
    "name": "ipython",
    "version": 3
   },
   "file_extension": ".py",
   "mimetype": "text/x-python",
   "name": "python",
   "nbconvert_exporter": "python",
   "pygments_lexer": "ipython3",
   "version": "3.9.21"
  }
 },
 "nbformat": 4,
 "nbformat_minor": 5
}
